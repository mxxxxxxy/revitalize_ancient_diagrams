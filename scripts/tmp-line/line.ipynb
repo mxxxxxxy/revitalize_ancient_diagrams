{
 "cells": [
  {
   "cell_type": "markdown",
   "metadata": {},
   "source": [
    "### 测试线条提取和转换\n",
    "\n",
    "1. 标注线延法线取n个点 拿到mask (暂时测试，后续通过分割模型直接拿到mask)\n",
    "2. 采样延长测试"
   ]
  },
  {
   "cell_type": "code",
   "execution_count": 42,
   "metadata": {},
   "outputs": [],
   "source": [
    "def sample_normal_line(start_point, normal_vec, num_samples = 10, max_distance = 10 ):\n",
    "    sampled_points = []\n",
    "    step_distance = max_distance / num_samples\n",
    "    for i in range(1, num_samples + 1):\n",
    "        distance = i * step_distance\n",
    "        sample_point = start_point + distance * normal_vec\n",
    "        sampled_points.append(sample_point)\n",
    "    return sampled_points"
   ]
  },
  {
   "cell_type": "code",
   "execution_count": 45,
   "metadata": {},
   "outputs": [
    {
     "data": {
      "text/plain": [
       "5511"
      ]
     },
     "execution_count": 45,
     "metadata": {},
     "output_type": "execute_result"
    }
   ],
   "source": [
    "from svgpathtools import parse_path, Line, wsvg\n",
    "import numpy as np\n",
    "width, height = 1361, 1367\n",
    "path_d = \"M416.5 654C425.999 687.619 430.439 702.048 438 726\"\n",
    "path = parse_path(path_d)\n",
    "n_points = 500  # 采样点数\n",
    "points = [path.point(i/n_points) for i in range(n_points+1)]\n",
    "normals = [path.normal(i/n_points) for i in range(n_points+1)]\n",
    "normal_lines = []\n",
    "normal_lines_pixels = []\n",
    "for point, normal_vec in zip(points, normals):\n",
    "    normal_line = Line(point, point + normal_vec * 10)\n",
    "    normal_lines_pixels.extend(sample_normal_line(point, normal_vec))\n",
    "    normal_lines.append(normal_line)\n",
    "    # print(f\"在参数 T={T:.2f} 处: 点={point}, 法线={normal_vec}\")\n",
    "\n",
    "wsvg(paths=[path] + normal_lines, filename='path_with_normals.svg')\n",
    "\n",
    "# # 根据图像比例缩放并四舍五入\n",
    "points_pixels = [(int(round(p.real)), int(round(p.imag))) for p in points]\n",
    "complete_pixels = [(int(round(p.real)), int(round(p.imag))) for p in [*points, *normal_lines_pixels]]\n",
    "# len(normal_lines_pixels) # 500个采样点 * 10法线采样点  = 50000\n",
    "len(complete_pixels) # 500"
   ]
  },
  {
   "cell_type": "code",
   "execution_count": 46,
   "metadata": {},
   "outputs": [],
   "source": [
    "from PIL import Image\n",
    "import matplotlib.pyplot as plt\n",
    "\n",
    "\n",
    "origin = \"mask.png\"\n",
    "def extract_pixels_from_origin(pixels): #从原始图像提取像素\n",
    "    origin_img = Image.open(origin).convert('RGBA')   # 换成你的图片路径\n",
    "    origin_img = np.array(origin_img)\n",
    "    new_mask = Image.new('RGBA', (width, height), (255, 255, 255, 0))\n",
    "    # 填充线条上的像素为黑色\n",
    "    for x, y in pixels:\n",
    "        new_mask.putpixel((x, y), tuple(origin_img[y, x]))  # 0 为黑色\n",
    "    new_mask.save(\"new_mask.png\")\n",
    "\n",
    "# extract_pixels_from_origin(points_pixels)\n",
    "extract_pixels_from_origin(complete_pixels)"
   ]
  }
 ],
 "metadata": {
  "kernelspec": {
   "display_name": "ancient_vis",
   "language": "python",
   "name": "python3"
  },
  "language_info": {
   "codemirror_mode": {
    "name": "ipython",
    "version": 3
   },
   "file_extension": ".py",
   "mimetype": "text/x-python",
   "name": "python",
   "nbconvert_exporter": "python",
   "pygments_lexer": "ipython3",
   "version": "3.10.12"
  }
 },
 "nbformat": 4,
 "nbformat_minor": 2
}
