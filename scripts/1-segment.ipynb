{
 "cells": [
  {
   "cell_type": "markdown",
   "metadata": {},
   "source": [
    "### 分离前景和背景\n",
    "\n",
    "拿到前景的mask"
   ]
  },
  {
   "cell_type": "code",
   "execution_count": 1,
   "metadata": {},
   "outputs": [
    {
     "data": {
      "text/plain": [
       "True"
      ]
     },
     "execution_count": 1,
     "metadata": {},
     "output_type": "execute_result"
    }
   ],
   "source": [
    "import cv2\n",
    "import numpy as np\n",
    "\n",
    "img_dir = \"../src/assets/node\"\n",
    "\n",
    "# 加载图像\n",
    "img = cv2.imread(f'{img_dir}/img.jpeg')\n",
    "\n",
    "# 如果图像为空，退出\n",
    "if img is None:\n",
    "    print(\"无法加载图像\")\n",
    "    exit()\n",
    "\n",
    "height, width = img.shape[:2]\n",
    "\n",
    "gray_image = cv2.cvtColor(img, cv2.COLOR_BGR2GRAY)\n",
    "# 设置阈值，进行二值化，保留黑色部分\n",
    "_, binary_image = cv2.threshold(gray_image, 150, 255, cv2.THRESH_BINARY_INV)\n",
    "\n",
    "treeMask = binary_image == 255\n",
    "# hole = binary_image == 255\n",
    "\n",
    "# removed = img.copy()\n",
    "tree = img.copy()\n",
    "\n",
    "# 将原始图像中的白色部分去除\n",
    "# removed[mask] = (255, 255, 255)  # 将保留部分改为白色\n",
    "# tree[treeMask] = (255, 255, 255)  # 将保留部分改为白色\n",
    "\n",
    "\n",
    "transparent_background = np.zeros((height, width, 4), dtype=np.uint8)\n",
    "transparent_background[:, :, :3] = tree  # 前景 (BGR 通道)\n",
    "transparent_background[:, :, 3] = binary_image     # Alpha 通道 (255 表示不透明，0 表示透明)\n",
    "# 保存结果为 PNG 格式，其中透明通道保留\n",
    "# cv2.imwrite('binary.png', binary_image)\n",
    "cv2.imwrite(f'{img_dir}/mask.png', transparent_background)\n",
    "# cv2.imwrite('tree.png', tree)\n"
   ]
  },
  {
   "cell_type": "markdown",
   "metadata": {},
   "source": [
    "#### ------下方代码不再需要------"
   ]
  },
  {
   "cell_type": "markdown",
   "metadata": {},
   "source": [
    "根据data里的position来计算每个node的bounding box，之后将二值化的图像根据bbox切割，得到每个node的mask"
   ]
  },
  {
   "cell_type": "code",
   "execution_count": null,
   "metadata": {},
   "outputs": [],
   "source": [
    "import os, json\n",
    "\n",
    "\n",
    "with open(f\"{img_dir}/node.json\", \"r\", encoding=\"utf-8\") as f:\n",
    "    data = json.load(f)\n",
    "\n",
    "def traverse_and_store(data, result, path=\"\"):\n",
    "    if not data:\n",
    "        return\n",
    "\n",
    "    # 将当前节点的 name 和 position 存储到结果列表\n",
    "    result.append({\"name\": data[\"name\"], \"position\": data.get(\"position\")})\n",
    "\n",
    "    # 遍历子节点\n",
    "    for child in data.get(\"children\", []):\n",
    "        traverse_and_store(child, result, path)\n",
    "\n",
    "results = []\n",
    "traverse_and_store(data, results)\n",
    "\n",
    "results"
   ]
  },
  {
   "cell_type": "code",
   "execution_count": 5,
   "metadata": {},
   "outputs": [
    {
     "name": "stderr",
     "output_type": "stream",
     "text": [
      "[ WARN:0@42.964] global loadsave.cpp:268 findDecoder imread_('../src/assets/tree/mask.png'): can't open/read file: check file path/integrity\n"
     ]
    },
    {
     "ename": "TypeError",
     "evalue": "'NoneType' object is not subscriptable",
     "output_type": "error",
     "traceback": [
      "\u001b[0;31m---------------------------------------------------------------------------\u001b[0m",
      "\u001b[0;31mTypeError\u001b[0m                                 Traceback (most recent call last)",
      "Cell \u001b[0;32mIn[5], line 19\u001b[0m\n\u001b[1;32m     16\u001b[0m x2, y2 \u001b[38;5;241m=\u001b[39m x \u001b[38;5;241m+\u001b[39m w, y \u001b[38;5;241m+\u001b[39m h\n\u001b[1;32m     18\u001b[0m \u001b[38;5;66;03m# 裁切图片\u001b[39;00m\n\u001b[0;32m---> 19\u001b[0m cropped \u001b[38;5;241m=\u001b[39m \u001b[43mimage\u001b[49m\u001b[43m[\u001b[49m\u001b[43my\u001b[49m\u001b[43m:\u001b[49m\u001b[43my2\u001b[49m\u001b[43m,\u001b[49m\u001b[43m \u001b[49m\u001b[43mx\u001b[49m\u001b[43m:\u001b[49m\u001b[43mx2\u001b[49m\u001b[43m]\u001b[49m\n\u001b[1;32m     21\u001b[0m \u001b[38;5;66;03m# 构建输出文件名\u001b[39;00m\n\u001b[1;32m     22\u001b[0m output_path \u001b[38;5;241m=\u001b[39m os\u001b[38;5;241m.\u001b[39mpath\u001b[38;5;241m.\u001b[39mjoin(output_dir, \u001b[38;5;124mf\u001b[39m\u001b[38;5;124m\"\u001b[39m\u001b[38;5;132;01m{\u001b[39;00mname\u001b[38;5;132;01m}\u001b[39;00m\u001b[38;5;124m.png\u001b[39m\u001b[38;5;124m\"\u001b[39m)\n",
      "\u001b[0;31mTypeError\u001b[0m: 'NoneType' object is not subscriptable"
     ]
    }
   ],
   "source": [
    "import os\n",
    "import cv2\n",
    "import json\n",
    "\n",
    "image_file = f\"{img_dir}/mask.png\"  # 指定图片路径\n",
    "output_dir = f\"{img_dir}/masks\"\n",
    "\n",
    "image = cv2.imread(image_file, cv2.IMREAD_UNCHANGED)\n",
    "\n",
    "\n",
    "for item in results:\n",
    "    name = item[\"name\"]\n",
    "    bbox = item['position']\n",
    "    x, y = int(bbox[0][0]), int(bbox[0][1])\n",
    "    w, h = int(bbox[1][0]), int(bbox[1][1])\n",
    "    x2, y2 = x + w, y + h\n",
    "\n",
    "    # 裁切图片\n",
    "    cropped = image[y:y2, x:x2]\n",
    "\n",
    "    # 构建输出文件名\n",
    "    output_path = os.path.join(output_dir, f\"{name}.png\")\n",
    "\n",
    "    # 保存裁切的图片\n",
    "    cv2.imwrite(output_path, cropped)\n"
   ]
  }
 ],
 "metadata": {
  "kernelspec": {
   "display_name": "auto_legend",
   "language": "python",
   "name": "python3"
  },
  "language_info": {
   "codemirror_mode": {
    "name": "ipython",
    "version": 3
   },
   "file_extension": ".py",
   "mimetype": "text/x-python",
   "name": "python",
   "nbconvert_exporter": "python",
   "pygments_lexer": "ipython3",
   "version": "3.10.8"
  }
 },
 "nbformat": 4,
 "nbformat_minor": 2
}
