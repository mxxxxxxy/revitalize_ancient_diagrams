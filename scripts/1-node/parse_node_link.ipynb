{
 "cells": [
  {
   "cell_type": "markdown",
   "metadata": {},
   "source": [
    "解析SVG获取每个bbox和link的数据"
   ]
  },
  {
   "cell_type": "code",
   "execution_count": 17,
   "metadata": {},
   "outputs": [],
   "source": [
    "import xml.etree.ElementTree as ET\n",
    "from svgelements import Rect, Matrix\n",
    "from svg.path import parse_path\n",
    "\n",
    "\n",
    "def extract_start_end_points_from_d(d_str):\n",
    "    \"\"\"\n",
    "    从SVG path的d属性中获取起点和终点坐标\n",
    "    :param d_str: SVG path的d属性字符串\n",
    "    :return: (起点坐标, 终点坐标)，例如 ((x1, y1), (x2, y2))\n",
    "    \"\"\"\n",
    "    path_obj = parse_path(d_str)\n",
    "    if not path_obj or len(path_obj) == 0:\n",
    "        return None, None\n",
    "    start_pt = (path_obj[0].start.real, path_obj[0].start.imag)\n",
    "    end_pt = (path_obj[-1].end.real, path_obj[-1].end.imag)\n",
    "    return start_pt, end_pt\n",
    "\n",
    "\n",
    "# 加载SVG文件\n",
    "def parse_svg(svg_file):\n",
    "    # 解析SVG文件\n",
    "    tree = ET.parse(svg_file)\n",
    "    root = tree.getroot()\n",
    "    # 命名空间 (一般SVG文件会包含默认的命名空间)\n",
    "    # 根据具体的SVG文件，可能需要调整命名空间前缀\n",
    "    namespace = {'svg': 'http://www.w3.org/2000/svg'}\n",
    "\n",
    "    node, link = [], []\n",
    "    groups = root[0].findall('.//svg:g', namespaces=namespace)\n",
    "    for group in groups:\n",
    "        if group.attrib['id'] == 'node':\n",
    "            nodeEle = group.findall('.//svg:rect', namespaces=namespace)\n",
    "        elif group.attrib['id'] == 'link':\n",
    "            linkEle = group.findall('.//svg:path', namespaces=namespace)\n",
    "\n",
    "    for i, _node in enumerate(nodeEle):\n",
    "        x, y, w, h = float(_node.attrib['x']), float(_node.attrib['y']), float(_node.attrib['width']), float(_node.attrib['height'])\n",
    "        node.append({\n",
    "            \"name\": _node.attrib['id'],\n",
    "            \"position\": [[x, y], [w, h]],\n",
    "            \"index\": i\n",
    "        })\n",
    "    for _link in linkEle:\n",
    "        (start, end) = extract_start_end_points_from_d(_link.attrib['d'])\n",
    "        link.append({\n",
    "            \"name\": _link.attrib['id'],\n",
    "            \"source\": {\n",
    "                \"nodeId\": \"\",\n",
    "                \"position\": start\n",
    "            },\n",
    "            \"target\": {\n",
    "                \"nodeId\": \"\",\n",
    "                \"position\": end\n",
    "            },\n",
    "            \"path\": _link.attrib['d']\n",
    "        })\n",
    "    return node, link\n",
    "\n",
    "\n",
    "\n",
    "# 示例SVG文件路径\n",
    "svg_file = './starmap1.svg'  # 替换为你的SVG文件路径\n",
    "node, link = parse_svg(svg_file)\n"
   ]
  },
  {
   "cell_type": "markdown",
   "metadata": {},
   "source": [
    "遍历每个link找到连接的node 即找到start和end最近的node"
   ]
  },
  {
   "cell_type": "code",
   "execution_count": 18,
   "metadata": {},
   "outputs": [],
   "source": [
    "import math\n",
    "def euclidean_distance(p1, p2):\n",
    "    \"\"\"计算两点 p1(x1,y1) 和 p2(x2,y2) 之间的欧几里得距离。\"\"\"\n",
    "    return math.sqrt((p1[0] - p2[0])**2 + (p1[1] - p2[1])**2)\n",
    "\n",
    "def find_closest_node(pos, nodes):\n",
    "    min_dist = float('inf')\n",
    "    min_index = None\n",
    "    for node in nodes:\n",
    "        node_center = [node['position'][0][0] + node['position'][1][0] / 2, node['position'][0][1] + node['position'][1][1] / 2 ]\n",
    "        dist = euclidean_distance(pos, node_center)\n",
    "        if dist < min_dist:\n",
    "            min_dist = dist\n",
    "            min_index = node['name']\n",
    "    return min_index\n",
    "\n",
    "for l in link:\n",
    "    source_pos = l['source']['position']\n",
    "    target_pos = l['target']['position']\n",
    "    l['source'] = find_closest_node(source_pos, node)\n",
    "    l['sourcePosition'] = source_pos\n",
    "    l['target'] = find_closest_node(target_pos, node)\n",
    "    l['targetPosition'] = target_pos\n",
    "# link"
   ]
  },
  {
   "cell_type": "code",
   "execution_count": 19,
   "metadata": {},
   "outputs": [],
   "source": [
    "import json\n",
    "with open(\"./link.json\", \"w\", encoding=\"utf-8\") as f:\n",
    "    f.write(json.dumps(link, ensure_ascii=False))\n",
    "\n",
    "with open(\"./node.json\", \"w\", encoding=\"utf-8\") as f:\n",
    "    f.write(json.dumps(node, ensure_ascii=False))"
   ]
  }
 ],
 "metadata": {
  "kernelspec": {
   "display_name": "auto_legend",
   "language": "python",
   "name": "python3"
  },
  "language_info": {
   "codemirror_mode": {
    "name": "ipython",
    "version": 3
   },
   "file_extension": ".py",
   "mimetype": "text/x-python",
   "name": "python",
   "nbconvert_exporter": "python",
   "pygments_lexer": "ipython3",
   "version": "3.10.8"
  }
 },
 "nbformat": 4,
 "nbformat_minor": 2
}
